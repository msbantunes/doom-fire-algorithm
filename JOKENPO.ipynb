{
  "nbformat": 4,
  "nbformat_minor": 0,
  "metadata": {
    "colab": {
      "provenance": [],
      "authorship_tag": "ABX9TyMQLROUcpt5qTjj3VXye6DT",
      "include_colab_link": true
    },
    "kernelspec": {
      "name": "python3",
      "display_name": "Python 3"
    },
    "language_info": {
      "name": "python"
    }
  },
  "cells": [
    {
      "cell_type": "markdown",
      "metadata": {
        "id": "view-in-github",
        "colab_type": "text"
      },
      "source": [
        "<a href=\"https://colab.research.google.com/github/msbantunes/doom-fire-algorithm/blob/master/JOKENPO.ipynb\" target=\"_parent\"><img src=\"https://colab.research.google.com/assets/colab-badge.svg\" alt=\"Open In Colab\"/></a>"
      ]
    },
    {
      "cell_type": "code",
      "source": [
        "\"\"\"\n",
        "Jogo de JOKENPO ou Papel, Pedra e Tesoura\n",
        "\n",
        "\"\"\"\n",
        "\n",
        "import random\n",
        "import requests\n",
        "\n",
        "def play():\n",
        "    user = input(\"Qual a sua escolha? 'R' para pedra, 'P' para papel, 'S' para tesoura. R: \")\n",
        "    if valid(user):\n",
        "        return \"Não é valido sua escolha!\"\n",
        "    #função que dá resultado de maneira randomica\n",
        "    computer = random.choice(['R', 'P', 'S'])\n",
        "    #imprime SEMPRE o que foi jogado pelo PC\n",
        "    print(\"PC Jogou \" + computer)\n",
        "    i = 1\n",
        "    #verifica se foi empate\n",
        "    while user == computer:\n",
        "        print('É um empate...')\n",
        "        return play()\n",
        "\n",
        "    # Chamada da função para verificar se é vencedor\n",
        "    if is_win(user, computer):\n",
        "        return 'Você ganhou!'\n",
        "    #Caso não dê empate ou ganhador, retorna como perdedor\n",
        "    return 'Você perdeu!'\n",
        "# função para verificar se é vencedor\n",
        "def is_win(player, opponent):\n",
        "    # retorne TRUE se o jogador vencer\n",
        "    if (player == 'R' and opponent == 'S') or (player == 'S' and opponent == 'P') \\\n",
        "        or (player == 'P' and opponent == 'R'):\n",
        "        return True\n",
        "#valida se a resposta é valida \"'R', 'P', 'S'\"\n",
        "def valid(player):\n",
        "    if player == 'R' or player == 'S' or player == 'P':\n",
        "        return False\n",
        "    return True\n",
        "#imprime resultado do jogo\n",
        "print(play())\n"
      ],
      "metadata": {
        "id": "o-gcdi5LPmZg",
        "colab": {
          "base_uri": "https://localhost:8080/"
        },
        "outputId": "1f8b6a36-c9a5-45b2-90e3-108bd675a308"
      },
      "execution_count": 30,
      "outputs": [
        {
          "output_type": "stream",
          "name": "stdout",
          "text": [
            "Qual a sua escolha? 'R' para pedra, 'P' para papel, 'S' para tesoura. R: W\n",
            "Não é valido sua escolha!\n"
          ]
        }
      ]
    }
  ]
}